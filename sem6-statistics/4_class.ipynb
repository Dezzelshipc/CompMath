{
 "cells": [
  {
   "cell_type": "code",
   "execution_count": 1,
   "metadata": {},
   "outputs": [],
   "source": [
    "import numpy as np\n",
    "from scipy.stats import t, chi2, f, norm"
   ]
  },
  {
   "cell_type": "code",
   "execution_count": 2,
   "metadata": {},
   "outputs": [
    {
     "name": "stdout",
     "output_type": "stream",
     "text": [
      "-1.5966666666666667\n",
      "1.6448536269514722\n",
      "-3.4959800352625963 0.3026467019292629\n"
     ]
    }
   ],
   "source": [
    "x = [-1.11, -6.1, 2.42]\n",
    "\n",
    "a = 0.1\n",
    "n = len(x)\n",
    "xm = np.mean(x)\n",
    "s = 2\n",
    "print(xm)\n",
    "q1a = norm.ppf(q=1 - a/2)\n",
    "print(q1a)\n",
    "print(xm - q1a * s / np.sqrt(n), xm + q1a * s / np.sqrt(n))"
   ]
  },
  {
   "cell_type": "code",
   "execution_count": 5,
   "metadata": {},
   "outputs": [
    {
     "name": "stdout",
     "output_type": "stream",
     "text": [
      "-1.5966666666666667 12.21682222222222\n",
      "2.919985580355516\n",
      "-22.192450907387986 18.99911757405465\n"
     ]
    }
   ],
   "source": [
    "x = [-1.11, -6.1, 2.42]\n",
    "\n",
    "a = 0.1\n",
    "n = len(x)\n",
    "xm = np.mean(x)\n",
    "s = np.var(x, ddof=1)\n",
    "\n",
    "print(xm, s)\n",
    "q1a = t.ppf(df=n-1, q=1 - a/2)\n",
    "print(q1a)\n",
    "print(xm - q1a * s / np.sqrt(n), xm + q1a * s / np.sqrt(n))"
   ]
  },
  {
   "cell_type": "code",
   "execution_count": 4,
   "metadata": {},
   "outputs": [
    {
     "name": "stdout",
     "output_type": "stream",
     "text": [
      "17.432233333333333\n",
      "4.605170185988092 0.21072103131565273\n",
      "131.9746053739277 2884.2186002077033\n"
     ]
    }
   ],
   "source": [
    "x = [1.07, 3.66, -4.51]\n",
    "\n",
    "a = 0.2\n",
    "n = len(x)\n",
    "s = np.var(x, ddof=1)\n",
    "print(s)\n",
    "\n",
    "q1a = chi2.ppf(df=n-1, q=1-a/2)\n",
    "q2a = chi2.ppf(df=n-1, q=a/2)\n",
    "print(q1a, q2a)\n",
    "print(s**2 * (n-1) / q1a, s**2 * (n-1) / q2a)"
   ]
  }
 ],
 "metadata": {
  "kernelspec": {
   "display_name": "Python 3",
   "language": "python",
   "name": "python3"
  },
  "language_info": {
   "codemirror_mode": {
    "name": "ipython",
    "version": 3
   },
   "file_extension": ".py",
   "mimetype": "text/x-python",
   "name": "python",
   "nbconvert_exporter": "python",
   "pygments_lexer": "ipython3",
   "version": "3.12.1"
  }
 },
 "nbformat": 4,
 "nbformat_minor": 2
}
