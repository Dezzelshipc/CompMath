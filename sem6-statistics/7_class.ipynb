{
 "cells": [
  {
   "cell_type": "code",
   "execution_count": 2,
   "metadata": {},
   "outputs": [],
   "source": [
    "import numpy as np\n",
    "from scipy.stats import t, chi2, f, norm\n",
    "import scipy"
   ]
  },
  {
   "cell_type": "code",
   "execution_count": 17,
   "metadata": {},
   "outputs": [
    {
     "name": "stdout",
     "output_type": "stream",
     "text": [
      "2.5758293035489004\n",
      "0.6019040462965535 3.1980959537034463\n",
      "0.9640696808870742 0.07186063822585154\n"
     ]
    }
   ],
   "source": [
    "mu = 1\n",
    "xm = 1.9\n",
    "s = 4\n",
    "n = 63\n",
    "\n",
    "a = 0.01\n",
    "\n",
    "q1a = norm.ppf(q=1 - a/2)\n",
    "print(q1a)\n",
    "print(xm - q1a * s / np.sqrt(n), xm + q1a * s / np.sqrt(n))\n",
    "print(cdf:=norm.cdf(1.8), (1-cdf)*2)"
   ]
  },
  {
   "cell_type": "code",
   "execution_count": 18,
   "metadata": {},
   "outputs": [
    {
     "name": "stdout",
     "output_type": "stream",
     "text": [
      "2.3263478740408408\n",
      "109.59086222885034\n",
      "104.68565433183782\n"
     ]
    }
   ],
   "source": [
    "a = 0.02\n",
    "s = 900\n",
    "q1a = norm.ppf(q=1 - a/2)\n",
    "print(q1a)\n",
    "print((q1a * s / 200)**2)\n",
    "\n",
    "n = 400\n",
    "print(q1a * s / np.sqrt(n))"
   ]
  },
  {
   "cell_type": "code",
   "execution_count": 64,
   "metadata": {},
   "outputs": [
    {
     "name": "stdout",
     "output_type": "stream",
     "text": [
      "199.4 4.7111111111111095 3.2498355440153697\n",
      "197.16939301465231 201.6306069853477\n",
      "-0.8741572761215297\n",
      "0.20237733586984558 0.40475467173969115\n"
     ]
    }
   ],
   "source": [
    "x = [198, 204, 197, 197, 201, 200, 199, 201, 199, 198]\n",
    "\n",
    "a = 0.01\n",
    "s0 = np.sqrt(np.var(x, ddof=1))\n",
    "n = len(x)\n",
    "xm = np.mean(x)\n",
    "mu = 200\n",
    "\n",
    "q1a = t.ppf(df=n-1, q=1 - a/2)\n",
    "print(xm, s0**2, q1a)\n",
    "print(xm - q1a * s0 / np.sqrt(n), xm + q1a * s0 / np.sqrt(n))\n",
    "print(pv:=(xm - mu)/(s0 / np.sqrt(n))) \n",
    "print(cdf:=t.cdf(pv, df=n-1), cdf*2)"
   ]
  },
  {
   "cell_type": "code",
   "execution_count": 22,
   "metadata": {},
   "outputs": [
    {
     "name": "stdout",
     "output_type": "stream",
     "text": [
      "25.18817957197117 2.155856481304639 46\n",
      "1.8262534562516677 21.337227407718082\n"
     ]
    }
   ],
   "source": [
    "x = [198, 204, 197, 197, 201, 200, 199, 201, 199, 198]\n",
    "\n",
    "a = 0.01\n",
    "s0 = np.sqrt(np.var(x, ddof=1))\n",
    "n = len(x)\n",
    "mu = 200\n",
    "\n",
    "summ = sum((xi - mu)**2 for xi in x)\n",
    "\n",
    "q1a = chi2.ppf(df=n, q=1 - a/2)\n",
    "q2a = chi2.ppf(df=n, q=a/2)\n",
    "print(q1a, q2a, summ)\n",
    "print(summ / q1a, summ / q2a)"
   ]
  },
  {
   "cell_type": "code",
   "execution_count": 21,
   "metadata": {},
   "outputs": [
    {
     "name": "stdout",
     "output_type": "stream",
     "text": [
      "30.14352720564616 10.117013063859044\n",
      "0.5688617620298967 1.6949172539132058\n",
      "0.7542292503144497 1.3018898777981207\n"
     ]
    }
   ],
   "source": [
    "n = 20\n",
    "a = 0.1\n",
    "s0 = 0.95\n",
    "\n",
    "q1a = chi2.ppf(df=n-1, q=1 - a/2)\n",
    "q2a = chi2.ppf(df=n-1, q=a/2)\n",
    "print(q1a, q2a)\n",
    "print(s0**2 * (n-1) / q1a, s0**2 * (n-1) / q2a)\n",
    "print(np.sqrt(s0**2 * (n-1) / q1a), np.sqrt(s0**2 * (n-1) / q2a))"
   ]
  },
  {
   "cell_type": "code",
   "execution_count": 63,
   "metadata": {},
   "outputs": [
    {
     "name": "stdout",
     "output_type": "stream",
     "text": [
      "70.22241356643451 31.55491646266713\n",
      "17.444572719521787 38.82120877896499\n",
      "40.833333333333336\n",
      "0.20970500597839828 0.41941001195679656\n"
     ]
    }
   ],
   "source": [
    "a = 0.05\n",
    "\n",
    "n = 50\n",
    "s0 = 5\n",
    "s = np.sqrt(30)\n",
    "\n",
    "q1a = chi2.ppf(df=n-1, q=1 - a/2)\n",
    "q2a = chi2.ppf(df=n-1, q=a/2)\n",
    "print(q1a, q2a)\n",
    "print(s0**2 * (n-1) / q1a, s0**2 * (n-1) / q2a)\n",
    "\n",
    "print(pv:=s0**2 * (n-1) / s**2) \n",
    "print(cdf:=chi2.cdf(pv, df=n-1), cdf*2)"
   ]
  },
  {
   "cell_type": "code",
   "execution_count": 17,
   "metadata": {},
   "outputs": [
    {
     "name": "stdout",
     "output_type": "stream",
     "text": [
      "0.5081967213114754\n",
      "0.40494258188495846\n",
      "0.6572401414169665 1.314480282833933 0.685519717166067\n"
     ]
    }
   ],
   "source": [
    "n = 610\n",
    "m = 310\n",
    "\n",
    "pm = m / n\n",
    "p = 0.5\n",
    "\n",
    "print(pm)\n",
    "print(val:=(pm - p)/np.sqrt(pm * (1-pm) / n))\n",
    "print(cdf:=norm.cdf(val), cdf*2, (1-cdf)*2)"
   ]
  },
  {
   "cell_type": "code",
   "execution_count": 44,
   "metadata": {},
   "outputs": [
    {
     "name": "stdout",
     "output_type": "stream",
     "text": [
      "0.7384328126972179 1.6741162362294313\n",
      "-0.6347705979418031 0.03477059794180348\n",
      "-1.500235904695961\n",
      "0.06974365252464731 0.13948730504929463 1.8605126949507054\n",
      "2\n",
      "0.8333333333333334 0.6944444444444444\n",
      "0.5261686533962675 1.9452594206202807\n"
     ]
    }
   ],
   "source": [
    "a = 0.1\n",
    "\n",
    "xm = 5.5\n",
    "s = 0.5\n",
    "n = 30\n",
    "\n",
    "xm2 = 5.8\n",
    "s2 = 0.6\n",
    "n2 = 25\n",
    "\n",
    "\n",
    "s_ = np.sqrt(((n - 1) * s + (n2-1) * s2) / (n+n2-2))\n",
    "q1a = t.ppf(df=n+n2-2, q=1 - a/2)\n",
    "print(s_, q1a)\n",
    "print((xm-xm2) - q1a * s_ * np.sqrt(1/n + 1/n2), (xm-xm2) + q1a * s_ * np.sqrt(1/n + 1/n2))\n",
    "\n",
    "\n",
    "print(val:=(xm - xm2)/(s_ * np.sqrt(1/n + 1/n2)))\n",
    "print(cdf:=t.cdf(val, df=n+n2-2), cdf*2, (1-cdf)*2)\n",
    "\n",
    "# 2\n",
    "print(2)\n",
    "print(s/s2, s**2/s2**2)\n",
    "print(f.ppf(dfn=n-1, dfd = n2-1, q=a/2), f.ppf(dfn=n-1, dfd = n2-1, q=1 - a/2))"
   ]
  },
  {
   "cell_type": "code",
   "execution_count": 3,
   "metadata": {},
   "outputs": [
    {
     "name": "stdout",
     "output_type": "stream",
     "text": [
      "TtestResult(statistic=-2.6612884589129493, pvalue=0.013611876394298042, df=24.194215739087447)\n"
     ]
    }
   ],
   "source": [
    "a = [19.58, 20.71, 21.92, 17.86, 20.72, 20.47, 20.77, 20.88, 20.81, 19.05]\n",
    "b = [21.48, 19.48, 16.25, 24.61, 25.94, 17.42, 23.55, 23.71, 30.43,\n",
    "       21.21, 21.01, 28.86, 20.91, 27.39, 23.37, 18.42, 30.47, 20.86,\n",
    "       22.97, 19.52]\n",
    "\n",
    "print(scipy.stats.ttest_ind(a, b, equal_var=False))"
   ]
  }
 ],
 "metadata": {
  "kernelspec": {
   "display_name": "Python 3",
   "language": "python",
   "name": "python3"
  },
  "language_info": {
   "codemirror_mode": {
    "name": "ipython",
    "version": 3
   },
   "file_extension": ".py",
   "mimetype": "text/x-python",
   "name": "python",
   "nbconvert_exporter": "python",
   "pygments_lexer": "ipython3",
   "version": "3.12.1"
  }
 },
 "nbformat": 4,
 "nbformat_minor": 2
}
