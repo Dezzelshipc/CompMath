{
 "cells": [
  {
   "cell_type": "code",
   "execution_count": 16,
   "metadata": {},
   "outputs": [],
   "source": [
    "import numpy as np\n",
    "from scipy.stats import t, chi2, f, norm"
   ]
  },
  {
   "cell_type": "code",
   "execution_count": 17,
   "metadata": {},
   "outputs": [
    {
     "name": "stdout",
     "output_type": "stream",
     "text": [
      "2.5758293035489004\n",
      "0.6019040462965535 3.1980959537034463\n",
      "0.9640696808870742 0.07186063822585154\n"
     ]
    }
   ],
   "source": [
    "mu = 1\n",
    "xm = 1.9\n",
    "s = 4\n",
    "n = 63\n",
    "\n",
    "a = 0.01\n",
    "\n",
    "q1a = norm.ppf(q=1 - a/2)\n",
    "print(q1a)\n",
    "print(xm - q1a * s / np.sqrt(n), xm + q1a * s / np.sqrt(n))\n",
    "print(cdf:=norm.cdf(1.8), (1-cdf)*2)"
   ]
  },
  {
   "cell_type": "code",
   "execution_count": 18,
   "metadata": {},
   "outputs": [
    {
     "name": "stdout",
     "output_type": "stream",
     "text": [
      "2.3263478740408408\n",
      "109.59086222885034\n",
      "104.68565433183782\n"
     ]
    }
   ],
   "source": [
    "a = 0.02\n",
    "s = 900\n",
    "q1a = norm.ppf(q=1 - a/2)\n",
    "print(q1a)\n",
    "print((q1a * s / 200)**2)\n",
    "\n",
    "n = 400\n",
    "print(q1a * s / np.sqrt(n))"
   ]
  },
  {
   "cell_type": "code",
   "execution_count": 64,
   "metadata": {},
   "outputs": [
    {
     "name": "stdout",
     "output_type": "stream",
     "text": [
      "199.4 4.7111111111111095 3.2498355440153697\n",
      "197.16939301465231 201.6306069853477\n",
      "-0.8741572761215297\n",
      "0.20237733586984558 0.40475467173969115\n"
     ]
    }
   ],
   "source": [
    "x = [198, 204, 197, 197, 201, 200, 199, 201, 199, 198]\n",
    "\n",
    "a = 0.01\n",
    "s0 = np.sqrt(np.var(x, ddof=1))\n",
    "n = len(x)\n",
    "xm = np.mean(x)\n",
    "mu = 200\n",
    "\n",
    "q1a = t.ppf(df=n-1, q=1 - a/2)\n",
    "print(xm, s0**2, q1a)\n",
    "print(xm - q1a * s0 / np.sqrt(n), xm + q1a * s0 / np.sqrt(n))\n",
    "print(pv:=(xm - mu)/(s0 / np.sqrt(n))) \n",
    "print(cdf:=t.cdf(pv, df=n-1), cdf*2)"
   ]
  },
  {
   "cell_type": "code",
   "execution_count": 22,
   "metadata": {},
   "outputs": [
    {
     "name": "stdout",
     "output_type": "stream",
     "text": [
      "25.18817957197117 2.155856481304639 46\n",
      "1.8262534562516677 21.337227407718082\n"
     ]
    }
   ],
   "source": [
    "x = [198, 204, 197, 197, 201, 200, 199, 201, 199, 198]\n",
    "\n",
    "a = 0.01\n",
    "s0 = np.sqrt(np.var(x, ddof=1))\n",
    "n = len(x)\n",
    "mu = 200\n",
    "\n",
    "summ = sum((xi - mu)**2 for xi in x)\n",
    "\n",
    "q1a = chi2.ppf(df=n, q=1 - a/2)\n",
    "q2a = chi2.ppf(df=n, q=a/2)\n",
    "print(q1a, q2a, summ)\n",
    "print(summ / q1a, summ / q2a)"
   ]
  },
  {
   "cell_type": "code",
   "execution_count": 21,
   "metadata": {},
   "outputs": [
    {
     "name": "stdout",
     "output_type": "stream",
     "text": [
      "30.14352720564616 10.117013063859044\n",
      "0.5688617620298967 1.6949172539132058\n",
      "0.7542292503144497 1.3018898777981207\n"
     ]
    }
   ],
   "source": [
    "n = 20\n",
    "a = 0.1\n",
    "s0 = 0.95\n",
    "\n",
    "q1a = chi2.ppf(df=n-1, q=1 - a/2)\n",
    "q2a = chi2.ppf(df=n-1, q=a/2)\n",
    "print(q1a, q2a)\n",
    "print(s0**2 * (n-1) / q1a, s0**2 * (n-1) / q2a)\n",
    "print(np.sqrt(s0**2 * (n-1) / q1a), np.sqrt(s0**2 * (n-1) / q2a))"
   ]
  },
  {
   "cell_type": "code",
   "execution_count": 63,
   "metadata": {},
   "outputs": [
    {
     "name": "stdout",
     "output_type": "stream",
     "text": [
      "70.22241356643451 31.55491646266713\n",
      "17.444572719521787 38.82120877896499\n",
      "40.833333333333336\n",
      "0.20970500597839828 0.41941001195679656\n"
     ]
    }
   ],
   "source": [
    "a = 0.05\n",
    "\n",
    "n = 50\n",
    "s0 = 5\n",
    "s = np.sqrt(30)\n",
    "\n",
    "q1a = chi2.ppf(df=n-1, q=1 - a/2)\n",
    "q2a = chi2.ppf(df=n-1, q=a/2)\n",
    "print(q1a, q2a)\n",
    "print(s0**2 * (n-1) / q1a, s0**2 * (n-1) / q2a)\n",
    "\n",
    "print(pv:=s0**2 * (n-1) / s**2) \n",
    "print(cdf:=chi2.cdf(pv, df=n-1), cdf*2)"
   ]
  }
 ],
 "metadata": {
  "kernelspec": {
   "display_name": "Python 3",
   "language": "python",
   "name": "python3"
  },
  "language_info": {
   "codemirror_mode": {
    "name": "ipython",
    "version": 3
   },
   "file_extension": ".py",
   "mimetype": "text/x-python",
   "name": "python",
   "nbconvert_exporter": "python",
   "pygments_lexer": "ipython3",
   "version": "3.12.1"
  }
 },
 "nbformat": 4,
 "nbformat_minor": 2
}
