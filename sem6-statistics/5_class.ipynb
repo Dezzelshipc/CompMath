{
 "cells": [
  {
   "cell_type": "code",
   "execution_count": 4,
   "metadata": {},
   "outputs": [],
   "source": [
    "import numpy as np\n",
    "from scipy.stats import t, chi2, f, norm"
   ]
  },
  {
   "cell_type": "code",
   "execution_count": 10,
   "metadata": {},
   "outputs": [
    {
     "name": "stdout",
     "output_type": "stream",
     "text": [
      "86.82402160927597 89.17597839072403\n"
     ]
    }
   ],
   "source": [
    "mu = 90\n",
    "xm = 88\n",
    "s = 3\n",
    "n = 25\n",
    "\n",
    "a = 0.05\n",
    "\n",
    "q1a = norm.ppf(q=1 - a/2)\n",
    "print(xm - q1a * s / np.sqrt(n), xm + q1a * s / np.sqrt(n))"
   ]
  },
  {
   "cell_type": "code",
   "execution_count": 17,
   "metadata": {},
   "outputs": [
    {
     "name": "stdout",
     "output_type": "stream",
     "text": [
      "2.3263478740408408\n",
      "109.59086222885034\n",
      "104.68565433183782\n"
     ]
    }
   ],
   "source": [
    "a = 0.02\n",
    "s = 900\n",
    "q1a = norm.ppf(q=1 - a/2)\n",
    "print(q1a)\n",
    "print((q1a * s / 200)**2)\n",
    "\n",
    "n = 400\n",
    "print(q1a * s / np.sqrt(n))"
   ]
  },
  {
   "cell_type": "code",
   "execution_count": 27,
   "metadata": {},
   "outputs": [
    {
     "name": "stdout",
     "output_type": "stream",
     "text": [
      "4.01 1.94961534667739 1.8331129326536333\n",
      "2.8798446215807543 5.140155378419245\n"
     ]
    }
   ],
   "source": [
    "x = [5, 2.5, 4, 4.5, 1, 3, 3.5, 2.6, 7.5, 6.5]\n",
    "\n",
    "a = 0.1\n",
    "s0 = np.sqrt(np.var(x, ddof=1))\n",
    "n = len(x)\n",
    "xm = np.mean(x)\n",
    "\n",
    "q1a = t.ppf(df=n-1, q=1 - a/2)\n",
    "print(xm, s0**2, q1a)\n",
    "print(xm - q1a * s0 / np.sqrt(n), xm + q1a * s0 / np.sqrt(n))\n"
   ]
  },
  {
   "cell_type": "code",
   "execution_count": 33,
   "metadata": {},
   "outputs": [
    {
     "name": "stdout",
     "output_type": "stream",
     "text": [
      "18.307038053275146 3.9402991361190605 44.01\n",
      "2.403993473544267 11.169202763459984\n"
     ]
    }
   ],
   "source": [
    "x = [5, 2.5, 4, 4.5, 1, 3, 3.5, 2.6, 7.5, 6.5]\n",
    "\n",
    "a = 0.1\n",
    "s0 = np.sqrt(np.var(x, ddof=1))\n",
    "n = len(x)\n",
    "mu = 5\n",
    "\n",
    "summ = sum((xi - mu)**2 for xi in x)\n",
    "\n",
    "q1a = chi2.ppf(df=n, q=1 - a/2)\n",
    "q2a = chi2.ppf(df=n, q=a/2)\n",
    "print(q1a, q2a, summ)\n",
    "print(summ / q1a, summ / q2a)"
   ]
  },
  {
   "cell_type": "code",
   "execution_count": 34,
   "metadata": {},
   "outputs": [
    {
     "name": "stdout",
     "output_type": "stream",
     "text": [
      "30.14352720564616 10.117013063859044\n",
      "0.5688617620298967 1.6949172539132058\n",
      "0.7542292503144497 1.3018898777981207\n"
     ]
    }
   ],
   "source": [
    "n = 20\n",
    "a = 0.1\n",
    "s0 = 0.95\n",
    "\n",
    "q1a = chi2.ppf(df=n-1, q=1 - a/2)\n",
    "q2a = chi2.ppf(df=n-1, q=a/2)\n",
    "print(q1a, q2a)\n",
    "print(s0**2 * (n-1) / q1a, s0**2 * (n-1) / q2a)\n",
    "print(np.sqrt(s0**2 * (n-1) / q1a), np.sqrt(s0**2 * (n-1) / q2a))"
   ]
  }
 ],
 "metadata": {
  "kernelspec": {
   "display_name": "Python 3",
   "language": "python",
   "name": "python3"
  },
  "language_info": {
   "codemirror_mode": {
    "name": "ipython",
    "version": 3
   },
   "file_extension": ".py",
   "mimetype": "text/x-python",
   "name": "python",
   "nbconvert_exporter": "python",
   "pygments_lexer": "ipython3",
   "version": "3.12.1"
  }
 },
 "nbformat": 4,
 "nbformat_minor": 2
}
