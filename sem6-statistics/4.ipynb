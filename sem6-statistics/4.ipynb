{
 "cells": [
  {
   "cell_type": "code",
   "execution_count": 1,
   "metadata": {},
   "outputs": [],
   "source": [
    "import numpy as np\n",
    "from scipy.stats import t, chi2, f, norm"
   ]
  },
  {
   "cell_type": "code",
   "execution_count": 2,
   "metadata": {},
   "outputs": [
    {
     "name": "stdout",
     "output_type": "stream",
     "text": [
      "1.19\n",
      "1.4395314709384563\n",
      "-0.17565946349740202 2.5556594634974017\n"
     ]
    }
   ],
   "source": [
    "x = [-1.3, 5.0, 2.8, -2.5, 0.3, 7.0, -5.3, 0.7, 5.8, -0.6]\n",
    "mu = 2\n",
    "s = 3\n",
    "\n",
    "\n",
    "a = 0.15\n",
    "n = len(x)\n",
    "xm = np.mean(x)\n",
    "\n",
    "print(xm)\n",
    "q1a = norm.ppf(q=1 - a/2)\n",
    "print(q1a)\n",
    "print(xm - q1a * s / np.sqrt(n), xm + q1a * s / np.sqrt(n))"
   ]
  },
  {
   "cell_type": "code",
   "execution_count": 5,
   "metadata": {},
   "outputs": [
    {
     "name": "stdout",
     "output_type": "stream",
     "text": [
      "1.19 15.365444444444442\n",
      "1.4395314709384563\n",
      "-5.804654872133044 8.184654872133045\n"
     ]
    }
   ],
   "source": [
    "x = [-1.3, 5.0, 2.8, -2.5, 0.3, 7.0, -5.3, 0.7, 5.8, -0.6]\n",
    "mu = 2\n",
    "s = np.var(x, ddof=1)\n",
    "\n",
    "a = 0.15\n",
    "n = len(x)\n",
    "xm = np.mean(x)\n",
    "\n",
    "print(xm, s)\n",
    "q1a = norm.ppf(q=1 - a/2)\n",
    "print(q1a)\n",
    "print(xm - q1a * s / np.sqrt(n), xm + q1a * s / np.sqrt(n))"
   ]
  },
  {
   "cell_type": "code",
   "execution_count": 6,
   "metadata": {},
   "outputs": [
    {
     "name": "stdout",
     "output_type": "stream",
     "text": [
      "15.6309442352811 3.7847489861682835\n",
      "135.94008876198671 561.430085467575\n"
     ]
    }
   ],
   "source": [
    "x = [-1.3, 5.0, 2.8, -2.5, 0.3, 7.0, -5.3, 0.7, 5.8, -0.6]\n",
    "mu = 2\n",
    "s = np.var(x, ddof=1)\n",
    "\n",
    "a = 0.15\n",
    "n = len(x)\n",
    "xm = np.mean(x)\n",
    "\n",
    "\n",
    "q1a = chi2.ppf(df=n-1, q=1-a/2)\n",
    "q2a = chi2.ppf(df=n-1, q=a/2)\n",
    "print(q1a, q2a)\n",
    "print(s**2 * (n-1) / q1a, s**2 * (n-1) / q2a)"
   ]
  }
 ],
 "metadata": {
  "kernelspec": {
   "display_name": "Python 3",
   "language": "python",
   "name": "python3"
  },
  "language_info": {
   "codemirror_mode": {
    "name": "ipython",
    "version": 3
   },
   "file_extension": ".py",
   "mimetype": "text/x-python",
   "name": "python",
   "nbconvert_exporter": "python",
   "pygments_lexer": "ipython3",
   "version": "3.12.1"
  }
 },
 "nbformat": 4,
 "nbformat_minor": 2
}
