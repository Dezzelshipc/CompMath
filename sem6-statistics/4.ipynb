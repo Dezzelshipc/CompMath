{
 "cells": [
  {
   "cell_type": "code",
   "execution_count": 1,
   "metadata": {},
   "outputs": [],
   "source": [
    "import numpy as np\n",
    "from scipy.stats import t, chi2, f, norm"
   ]
  },
  {
   "cell_type": "code",
   "execution_count": 2,
   "metadata": {},
   "outputs": [],
   "source": [
    "x = [-1.3, 5.0, 2.8, -2.5, 0.3, 7.0, -5.3, 0.7, 5.8, -0.6]\n",
    "mu = 2\n",
    "s = 3 # s^2 = 9\n",
    "\n",
    "a = 0.15\n",
    "n = len(x)\n",
    "xm = np.mean(x)\n",
    "s0 = np.sqrt(np.var(x, ddof=1))"
   ]
  },
  {
   "cell_type": "code",
   "execution_count": 3,
   "metadata": {},
   "outputs": [
    {
     "name": "stdout",
     "output_type": "stream",
     "text": [
      "-0.17565946349740202 2.5556594634974017\n"
     ]
    }
   ],
   "source": [
    "# 1) +s -> mu\n",
    "q1a = norm.ppf(q=1 - a/2)\n",
    "print(xm - q1a * s / np.sqrt(n), xm + q1a * s / np.sqrt(n))"
   ]
  },
  {
   "cell_type": "code",
   "execution_count": 4,
   "metadata": {},
   "outputs": [
    {
     "name": "stdout",
     "output_type": "stream",
     "text": [
      "-0.760762433616468 3.1407624336164677\n"
     ]
    }
   ],
   "source": [
    "# 2) -s -> mu\n",
    "q1a = t.ppf(df=n-1, q=1 - a/2)\n",
    "print(xm - q1a * s0 / np.sqrt(n), xm + q1a * s0 / np.sqrt(n))"
   ]
  },
  {
   "cell_type": "code",
   "execution_count": 5,
   "metadata": {},
   "outputs": [
    {
     "name": "stdout",
     "output_type": "stream",
     "text": [
      "8.84713027686859 36.538486569489805\n"
     ]
    }
   ],
   "source": [
    "# 3) -mu -> s\n",
    "q1a = chi2.ppf(df=n-1, q=1 - a/2)\n",
    "q2a = chi2.ppf(df=n-1, q=a/2)\n",
    "print(s0**2 * (n-1) / q1a, s0**2 * (n-1) / q2a)"
   ]
  },
  {
   "cell_type": "code",
   "execution_count": 12,
   "metadata": {},
   "outputs": [
    {
     "name": "stdout",
     "output_type": "stream",
     "text": [
      "8.534964504015235 32.58079917452068\n",
      "-0.1779360129630605 0.1779360129630605\n"
     ]
    }
   ],
   "source": [
    "# 4) +mu -> s\n",
    "summ = sum((xi - mu)**2 for xi in x)\n",
    "\n",
    "q1a = chi2.ppf(df=n, q=1 - a/2)\n",
    "q2a = chi2.ppf(df=n, q=a/2)\n",
    "print(summ / q1a, summ / q2a)\n",
    "\n",
    "\n",
    "q1a = norm.ppf(q=1 - a/2)\n",
    "print((xm - mu) / (q1a * np.sqrt(n)), (xm - mu) / (- q1a * np.sqrt(n)))"
   ]
  },
  {
   "cell_type": "code",
   "execution_count": 7,
   "metadata": {},
   "outputs": [
    {
     "name": "stdout",
     "output_type": "stream",
     "text": [
      "mu - mu2 = -3\n"
     ]
    }
   ],
   "source": [
    "x2 = [1.7, 8.0, 5.8, 0.5, 3.3, 10.0, -2.3, 3.7, 8.8, 2.4, 3.0, 4.7]\n",
    "mu2 = 5\n",
    "s2 = 3 # s^2 = 9\n",
    "\n",
    "a2 = 0.15\n",
    "n2 = len(x2)\n",
    "xm2 = np.mean(x2)\n",
    "s02 = np.sqrt(np.var(x2, ddof=1))\n",
    "\n",
    "s_ = np.sqrt(((n - 1) * s0**2 + (n2-1) * s02**2) / (n+n2-2))\n",
    "\n",
    "print(f\"{mu - mu2 = }\") "
   ]
  },
  {
   "cell_type": "code",
   "execution_count": 8,
   "metadata": {},
   "outputs": [
    {
     "name": "stdout",
     "output_type": "stream",
     "text": [
      "-4.792444988184573 -1.0942216784820944\n"
     ]
    }
   ],
   "source": [
    "# 1) +s1,2 -> mu1 - mu2\n",
    "q1a = norm.ppf(q=1 - a2/2)\n",
    "print((xm-xm2) - q1a * np.sqrt(s**2/n + s2**2/n2), (xm-xm2) + q1a * np.sqrt(s**2/n + s2**2/n2))"
   ]
  },
  {
   "cell_type": "code",
   "execution_count": 9,
   "metadata": {},
   "outputs": [
    {
     "name": "stdout",
     "output_type": "stream",
     "text": [
      "-5.334052783955045 -0.5526138827116229\n"
     ]
    }
   ],
   "source": [
    "# 2) -s1=s2 -> mu1 - mu2\n",
    "q1a = t.ppf(df=n+n2-2, q=1 - a2/2)\n",
    "print((xm-xm2) - q1a * s_ * np.sqrt(1/n + 1/n2), (xm-xm2) + q1a * s_ * np.sqrt(1/n + 1/n2))"
   ]
  }
 ],
 "metadata": {
  "kernelspec": {
   "display_name": "Python 3",
   "language": "python",
   "name": "python3"
  },
  "language_info": {
   "codemirror_mode": {
    "name": "ipython",
    "version": 3
   },
   "file_extension": ".py",
   "mimetype": "text/x-python",
   "name": "python",
   "nbconvert_exporter": "python",
   "pygments_lexer": "ipython3",
   "version": "3.12.1"
  }
 },
 "nbformat": 4,
 "nbformat_minor": 2
}
