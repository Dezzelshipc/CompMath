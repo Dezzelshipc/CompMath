{
 "cells": [
  {
   "cell_type": "code",
   "execution_count": 3,
   "id": "5dc97753-42cc-43b5-a062-03f4b408139e",
   "metadata": {},
   "outputs": [],
   "source": [
    "import numpy as np\n",
    "import matplotlib.pyplot as plt\n",
    "from sklearn.neighbors import KNeighborsClassifier\n",
    "from sklearn.metrics import accuracy_score\n",
    "from sklearn.datasets import fetch_openml\n",
    "from sklearn.model_selection import train_test_split\n",
    "from matplotlib import colormaps\n",
    "\n",
    "cmap = colormaps[\"gray\"]"
   ]
  },
  {
   "cell_type": "code",
   "execution_count": null,
   "id": "4ae79590-58c4-41a5-b057-f9c08894057f",
   "metadata": {},
   "outputs": [],
   "source": [
    "x, y = fetch_openml(\"mnist_784\", return_X_y=True, as_frame=False, parser='liac-arff')\n",
    "\n",
    "x_train, x_test, y_train, y_test = train_test_split(x, y)\n",
    "\n",
    "print(list(map(len, [x_train, x_test, y_train, y_test])))\n",
    "\n",
    "x_train = x_train / 255.0\n",
    "x_test = x_test / 255.0\n",
    "\n",
    "K = 10\n",
    "\n",
    "knc = KNeighborsClassifier(n_neighbors=K)\n",
    "knc = knc.fit(x_train, y_train)\n",
    "\n",
    "y_predicted = knc.predict(x_test)\n",
    "score = accuracy_score(y_test, y_predicted)\n",
    "\n",
    "print(f\"{score = }\")"
   ]
  }
 ],
 "metadata": {
  "kernelspec": {
   "display_name": "Python 3 (ipykernel)",
   "language": "python",
   "name": "python3"
  },
  "language_info": {
   "codemirror_mode": {
    "name": "ipython",
    "version": 3
   },
   "file_extension": ".py",
   "mimetype": "text/x-python",
   "name": "python",
   "nbconvert_exporter": "python",
   "pygments_lexer": "ipython3",
   "version": "3.12.6"
  }
 },
 "nbformat": 4,
 "nbformat_minor": 5
}
