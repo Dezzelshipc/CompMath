{
 "cells": [
  {
   "cell_type": "markdown",
   "metadata": {},
   "source": [
    "Обработка текста"
   ]
  },
  {
   "cell_type": "code",
   "execution_count": 1,
   "metadata": {},
   "outputs": [],
   "source": [
    "with open(\"text.txt\", \"r\", encoding=\"UTF-8\") as f:\n",
    "    text = f.read()\n",
    "\n",
    "with open(\"stopwords.txt\", \"r\", encoding=\"UTF-8\") as f:\n",
    "    stopwords = f.read().splitlines()"
   ]
  },
  {
   "cell_type": "code",
   "execution_count": 2,
   "metadata": {},
   "outputs": [],
   "source": [
    "import re\n",
    "def clean_roman(text):\n",
    "    pattern = r\"\\b(?=[MDCLXVIΙ])M{0,4}(CM|CD|D?C{0,3})(XC|XL|L?X{0,3})([IΙ]X|[IΙ]V|V?[IΙ]{0,3})\\b\\.?\"\n",
    "    return re.sub(pattern, '', text)\n",
    "\n",
    "def clean_chapters(text):\n",
    "    pattern = r\"ЧАСТЬ\\s.+\\n\"\n",
    "    return re.sub(pattern, '', text)\n",
    "\n",
    "def clean_spaces(text):\n",
    "    pattern = r\"\\s+\"\n",
    "    return re.sub(pattern, ' ', text)\n",
    "\n",
    "def clean_num_endings(text):\n",
    "    pattern = r\"-[ей]\"\n",
    "    return re.sub(pattern, '', text)\n",
    "\n",
    "def clean_punctuation(text):\n",
    "    pattern = r\"[\\,\\.\\-\\:\\;\\(\\)\\\"\\`\\'\\?\\!]\"\n",
    "    return re.sub(pattern, '', text)\n",
    "\n",
    "def clean_stopwords(text, stopwords):\n",
    "    new_text = text\n",
    "    for word in stopwords:\n",
    "        new_text = new_text.replace(\" \"+word+\" \", \" \")\n",
    "    return new_text"
   ]
  },
  {
   "cell_type": "code",
   "execution_count": 3,
   "metadata": {},
   "outputs": [],
   "source": [
    "# t = text[:1000]\n",
    "t = text\n",
    "t = clean_chapters(t)\n",
    "t = clean_roman(t)\n",
    "t = t.lower()\n",
    "t = clean_num_endings(t)\n",
    "t = clean_punctuation(t)\n",
    "t = clean_spaces(t)\n",
    "# print(t)\n",
    "t = clean_stopwords(t, stopwords)\n",
    "\n",
    "# print(t)"
   ]
  },
  {
   "cell_type": "code",
   "execution_count": 4,
   "metadata": {},
   "outputs": [],
   "source": [
    "def n_gramms(text, n) -> list:\n",
    "    words = text.split()\n",
    "    if n == 1:\n",
    "        return words\n",
    "    \n",
    "    gramms_list = []\n",
    "    for i in range(len(words) - n + 1):\n",
    "        gramms_list.append(\" \".join(words[i:i+n]))\n",
    "    \n",
    "    return gramms_list"
   ]
  },
  {
   "cell_type": "code",
   "execution_count": 5,
   "metadata": {},
   "outputs": [],
   "source": [
    "import os\n",
    "def save(obj, name):\n",
    "    save_path = \"./saved\"\n",
    "    if not os.path.exists(save_path):\n",
    "        os.makedirs(save_path)\n",
    "    with open(f\"{save_path}/{name}.txt\", \"w\", encoding=\"UTF-8\") as f:\n",
    "        if isinstance(obj, list):\n",
    "            f.write(\"\\n\".join(obj))\n",
    "        if isinstance(obj, dict):\n",
    "            f.write(\"\\n\".join((f\"{k} {v}\" for k, v in obj.items())))\n"
   ]
  },
  {
   "cell_type": "code",
   "execution_count": 6,
   "metadata": {},
   "outputs": [],
   "source": [
    "words = n_gramms(t, 1)\n",
    "\n",
    "bag = { w: 0 for w in set(words) }\n",
    "for w in words:\n",
    "    bag[w] += 1\n",
    "\n",
    "save(bag, \"bag\")"
   ]
  },
  {
   "cell_type": "code",
   "execution_count": 7,
   "metadata": {},
   "outputs": [],
   "source": [
    "two_gramms = n_gramms(t, 2)\n",
    "four_gramms = n_gramms(t, 4)\n",
    "\n",
    "save(two_gramms, \"two\")\n",
    "save(four_gramms, \"four\")"
   ]
  }
 ],
 "metadata": {
  "kernelspec": {
   "display_name": "Python 3",
   "language": "python",
   "name": "python3"
  },
  "language_info": {
   "codemirror_mode": {
    "name": "ipython",
    "version": 3
   },
   "file_extension": ".py",
   "mimetype": "text/x-python",
   "name": "python",
   "nbconvert_exporter": "python",
   "pygments_lexer": "ipython3",
   "version": "3.12.6"
  }
 },
 "nbformat": 4,
 "nbformat_minor": 2
}
